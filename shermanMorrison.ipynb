{
 "cells": [
  {
   "cell_type": "code",
   "execution_count": 1,
   "id": "a0589153-8ad4-4d3b-b92a-308f729bd4e5",
   "metadata": {},
   "outputs": [],
   "source": [
    "import numpy as np\n",
    "\n",
    "def solveMatrix(L, U, b):\n",
    "    \"\"\"\n",
    "    Solves the equation LUx=b, by first solving for Ly=b \n",
    "    and then using that y to solve for Ux=y. This has complexity n^2.\n",
    "    \"\"\"\n",
    "    n=len(L)\n",
    "    x=[0 for i in range(n)]\n",
    "    y=[0 for i in range(n)]\n",
    "\n",
    "    #Solve Ly=b\n",
    "    for i in range(n):\n",
    "        S=0\n",
    "        for j in range (i):\n",
    "            S=S+L[i][j]*y[j]  \n",
    "        y[i]=b[i]-S\n",
    "    #Solve Ux=y\n",
    "    for i in range(n-1, -1, -1):\n",
    "        S=0\n",
    "        for j in range(n-1, i, -1):\n",
    "            S=S-U[i][j]*x[j]\n",
    "        x[i]=(y[i]+S)/U[i][i]\n",
    "    return(x)\n",
    "\n",
    "def shermanMorrison(L, U, u, v, c):\n",
    "    \"\"\"\n",
    "    Computes the solution for Bx=c, where B=A-uv^T, A=LU, and V^TA^(-1)u \n",
    "    does not equal 1. This solves a rank one update of A in n^2 time.\n",
    "    \"\"\"\n",
    "    w=solveMatrix(L, U, u)\n",
    "    y=solveMatrix(L, U, c)\n",
    "    r=np.dot(v, w)\n",
    "\n",
    "    if r == 1:\n",
    "        raise ValueError(\"r=V^TA^(-1)u=1, this causes B to be not invertible\")\n",
    "\n",
    "    a=1/(1-r)\n",
    "    x=y+a*np.array(w)*np.dot(v, y)\n",
    "    return (x)"
   ]
  },
  {
   "cell_type": "code",
   "execution_count": 3,
   "id": "07a270ac-8fee-4ca2-9f2c-3c0d6cf4767c",
   "metadata": {},
   "outputs": [
    {
     "name": "stdout",
     "output_type": "stream",
     "text": [
      "[ 0.10798122  0.43661972 -0.53521127]\n",
      "[ 0.10798122  0.43661972 -0.53521127]\n"
     ]
    }
   ],
   "source": [
    "#practice problem\n",
    "\n",
    "L = [\n",
    "    [1, 0,0],\n",
    "    [2, 1, 0],\n",
    "    [3,6,1 ]\n",
    "]\n",
    "\n",
    "U= [\n",
    "    [6, 5,6],\n",
    "    [0, 7, 5],\n",
    "    [0,0,8 ]\n",
    "]\n",
    "\n",
    "c=[1,1,1]\n",
    "u=[1,1,3]\n",
    "v=[3,1,4]\n",
    "\n",
    "#our solution\n",
    "print(shermanMorrison(L, U, u, v, c))\n",
    "#check with python\n",
    "print(np.linalg.solve(np.matmul(L, U)-np.outer(np.array(u), np.array(v)), np.array(c)))"
   ]
  }
 ],
 "metadata": {
  "kernelspec": {
   "display_name": "base",
   "language": "python",
   "name": "python3"
  },
  "language_info": {
   "codemirror_mode": {
    "name": "ipython",
    "version": 3
   },
   "file_extension": ".py",
   "mimetype": "text/x-python",
   "name": "python",
   "nbconvert_exporter": "python",
   "pygments_lexer": "ipython3",
   "version": "3.8.8"
  },
  "vscode": {
   "interpreter": {
    "hash": "2b113a1eb9c8284a722bf3516ee548455eebaffa8cea7c1352e3a19da305ab0a"
   }
  }
 },
 "nbformat": 4,
 "nbformat_minor": 5
}
